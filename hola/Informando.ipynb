{
  "nbformat": 4,
  "nbformat_minor": 0,
  "metadata": {
    "colab": {
      "provenance": []
    },
    "kernelspec": {
      "name": "python3",
      "display_name": "Python 3"
    },
    "language_info": {
      "name": "python"
    }
  },
  "cells": [
    {
      "cell_type": "code",
      "execution_count": null,
      "metadata": {
        "colab": {
          "base_uri": "https://localhost:8080/"
        },
        "id": "tGPVjKYE8iwz",
        "outputId": "79427959-c967-4a08-b014-eae00bd4d734"
      },
      "outputs": [
        {
          "output_type": "stream",
          "name": "stdout",
          "text": [
            "hola mundo\n"
          ]
        }
      ],
      "source": [
        "print('hola mundo')#imprime algo\n",
        "#usar el .py para guardar cosas"
      ]
    },
    {
      "cell_type": "code",
      "source": [
        "#17type(variable) conoce el tipo de variable\n",
        "\"\"\"\n",
        "La varibles almacenan informacion estas no pueden tener espacios,\n",
        "existen los:\n",
        "  strings(str) que almacenan texto \"usar comillas\"\n",
        "\n",
        "Existen los enteros (int) utiliza & para 2 condiciones\n",
        "Y los decimales(float) Utiliza and para 2 condiciones\n",
        "booleanos(bool)\n",
        "\"\"\""
      ],
      "metadata": {
        "id": "brxnFn7wByDj"
      },
      "execution_count": null,
      "outputs": []
    },
    {
      "cell_type": "code",
      "source": [
        "#Formatos\n",
        "\"listas utiliza[]\"\n",
        "numeros=[1,2,3,4]  #pueden tener distintos tipos de datos puedo accesar por pocion o alreves[1] o [-1]\n",
        "                   #Puedo traer sub listas por medio de pociones [1:3]\n",
        "                   #Puedo remplazar el elemento de una posicion numero[2]=4\n",
        "                   #Puede contener una lista literalmente una lista dentro de la lista\n",
        "\"Diccionarios utiliza{}\"  #conjuntos set()\n",
        "estudiante = {'nombre': 'Ana', 'edad': 20} #No tienen repetidos\n",
        "                                           #Necesita almenos una coma\n",
        "                                           #Sus metodos son add o remove\n",
        "                                           #Intersection busca intercepciones entre conjuntos\n",
        "\n",
        "\"\"\"\n",
        "Los disccionarios son bases que almacenan claves y esas claves tienen valores y conjuntos de valores\n",
        "\"\"\"\n",
        "\"tuplas utiliza()\"\n",
        "colores = ('rojo', 'verde', 'azul') #son inmutables"
      ],
      "metadata": {
        "id": "kKN9LCT-GNC3"
      },
      "execution_count": null,
      "outputs": []
    },
    {
      "cell_type": "code",
      "source": [
        "#Strings"
      ],
      "metadata": {
        "id": "O50FD42JB-m8"
      },
      "execution_count": null,
      "outputs": []
    },
    {
      "cell_type": "code",
      "source": [
        "#Comandos\n",
        "\"control+s guarda\"\n",
        "\"control+m+b nuevo bloque\"\n",
        "\"Python comienza en 0\"\n",
        "\n",
        "\"\"\"\n",
        "comenterio multilinea\n",
        "es util\n",
        "para hacer descripciones\n",
        "\"\"\""
      ],
      "metadata": {
        "id": "5K7PrsSBBDrz"
      },
      "execution_count": null,
      "outputs": []
    },
    {
      "cell_type": "code",
      "source": [
        "#Operadores\n",
        "\"+= esto suma\"\n",
        "\"-= esto resta\"\n",
        "cosa=\"cosa\"\n",
        "\n",
        "palabra = \"taco\"\n",
        "print(palabra)\n",
        "palabra = palabra.replace(\"t\", \"\")  # quita la t\n",
        "print(palabra)\n",
        "\n",
        "palabra = \"taco\"\n",
        "nueva = palabra[:-1]   # quita el último carácter\n",
        "print(nueva)\n",
        "\n"
      ],
      "metadata": {
        "colab": {
          "base_uri": "https://localhost:8080/"
        },
        "id": "KH2jdxix-vXU",
        "outputId": "366498c8-609a-4849-90ca-e259ff3a39f1"
      },
      "execution_count": null,
      "outputs": [
        {
          "output_type": "stream",
          "name": "stdout",
          "text": [
            "taco\n",
            "aco\n",
            "tac\n"
          ]
        }
      ]
    },
    {
      "cell_type": "code",
      "source": [
        "#Manipulaciones\n",
        "datos = [3.5, 4.2, 7.1, 8.0]\n",
        "del datos[0]   # elimina el que está en la posición 1 (4.2)\n",
        "print(datos)\n",
        "\n",
        "\"\"\"\n",
        "esto es nuevo jajajjaja\n",
        "\"\"\"\n",
        "datos1 = [3.5, 4.2, 7.1, 8.0]\n",
        "datos.pop()   # quita el último\n",
        "print(datos1)\n",
        "\n",
        "\n",
        "len(datos) #Lee cantidad de elementos\n",
        "datos.append(2.3)#Agrega el elemento\n",
        "print(datos.count(2.3)) #Cuenta elementos repetidos\n",
        "print(datos.index(2.3)) #posicion del elemento\n",
        "print(datos.remove(2.3)) #Remueve la primera aparicion de un elemento\n",
        "datos.reverse() #invierte los elementos\n",
        "\n",
        "\n",
        "\n",
        "datos.sort() #Ordena los elementos\n",
        "print(datos)"
      ],
      "metadata": {
        "colab": {
          "base_uri": "https://localhost:8080/"
        },
        "id": "zJomwPW_D1BC",
        "outputId": "b868a84c-4ca5-4bde-93ba-5ac32a9d26ef"
      },
      "execution_count": null,
      "outputs": [
        {
          "output_type": "stream",
          "name": "stdout",
          "text": [
            "[4.2, 7.1, 8.0]\n",
            "[3.5, 4.2, 7.1, 8.0]\n",
            "1\n",
            "[2.3, 4.2, 7.1]\n"
          ]
        }
      ]
    },
    {
      "cell_type": "code",
      "source": [
        "\"Los condicionales tienen que ser excluyentes\""
      ],
      "metadata": {
        "id": "9Wtdi-lABP5l"
      },
      "execution_count": null,
      "outputs": []
    },
    {
      "cell_type": "code",
      "source": [
        "#WHILE\n",
        "\"\"\"\n",
        "necesito un\n",
        " init:inicio\n",
        " Max_val:Final\n",
        " Lista:[]\n",
        "\n",
        "while condicion: #Una condicon es algo <,=,> que algo\n",
        "  bloque de codigo\n",
        "\"\"\"\n",
        "#• Ejemplo 3: Utilizando un ciclo While, muestre la secuencia de valores de 1 a 10, con saltos de 1 en 1.\n",
        "\n",
        "init=0         #esto es un contador\n",
        "max_val=10\n",
        "taco=[]\n",
        "\n",
        "while init<max_val:\n",
        "  init+=1      #realiza un incremento\n",
        "  taco.append(init)   # a quien agrengo.append(quien agrego)\n",
        "  print(taco)         #dentro muestra cada ciclo\n",
        "print(taco)           #muestra mi objeto final"
      ],
      "metadata": {
        "colab": {
          "base_uri": "https://localhost:8080/"
        },
        "id": "NHBF6tmuDFgL",
        "outputId": "5d4e48f8-0056-49f8-9ae2-629a46741730"
      },
      "execution_count": null,
      "outputs": [
        {
          "output_type": "stream",
          "name": "stdout",
          "text": [
            "[1]\n",
            "[1, 2]\n",
            "[1, 2, 3]\n",
            "[1, 2, 3, 4]\n",
            "[1, 2, 3, 4, 5]\n",
            "[1, 2, 3, 4, 5, 6]\n",
            "[1, 2, 3, 4, 5, 6, 7]\n",
            "[1, 2, 3, 4, 5, 6, 7, 8]\n",
            "[1, 2, 3, 4, 5, 6, 7, 8, 9]\n",
            "[1, 2, 3, 4, 5, 6, 7, 8, 9, 10]\n",
            "[1, 2, 3, 4, 5, 6, 7, 8, 9, 10]\n"
          ]
        }
      ]
    }
  ]
}
